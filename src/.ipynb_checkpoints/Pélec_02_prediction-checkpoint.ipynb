{
 "cells": [
  {
   "cell_type": "code",
   "execution_count": 1,
   "metadata": {},
   "outputs": [],
   "source": [
    "import pandas as pd\n",
    "import numpy as np\n",
    "import os, warnings\n",
    "\n",
    "warnings.filterwarnings('ignore')\n",
    "pd.set_option('display.max_rows', 100)\n",
    "pd.set_option('display.max_columns', 100)"
   ]
  },
  {
   "cell_type": "code",
   "execution_count": 2,
   "metadata": {},
   "outputs": [],
   "source": [
    "# preprocessing\n",
    "from sklearn.impute import SimpleImputer\n",
    "from sklearn.preprocessing import StandardScaler, MinMaxScaler, RobustScaler, FunctionTransformer\n",
    "\n",
    "# pipeline\n",
    "from sklearn.pipeline import Pipeline\n",
    "from sklearn.compose import ColumnTransformer\n",
    "\n",
    "# model\n",
    "from sklearn.linear_model import LinearRegression, SGDRegressor\n",
    "from sklearn.ensemble import RandomForestRegressor\n",
    "\n",
    "\n",
    "# evaluation\n",
    "from sklearn.model_selection import train_test_split, KFold, GridSearchCV\n",
    "\n",
    "# metric\n",
    "from sklearn.metrics import mean_squared_error, r2_score"
   ]
  },
  {
   "cell_type": "code",
   "execution_count": 3,
   "metadata": {},
   "outputs": [],
   "source": [
    "df = pd.read_csv('../data/clean_data.csv')"
   ]
  },
  {
   "cell_type": "code",
   "execution_count": 4,
   "metadata": {},
   "outputs": [
    {
     "data": {
      "text/plain": [
       "numberof_floors       6\n",
       "energystar_score    799\n",
       "dtype: int64"
      ]
     },
     "execution_count": 4,
     "metadata": {},
     "output_type": "execute_result"
    }
   ],
   "source": [
    "df.isna().sum()[df.isna().sum() > 0]"
   ]
  },
  {
   "cell_type": "code",
   "execution_count": 5,
   "metadata": {},
   "outputs": [],
   "source": [
    "def data_selection(data:pd.DataFrame, target:str, skip_features:list, stratify:str=None, test_size:float=.2, random_state:int=0):\n",
    "    \n",
    "    X = data.drop(columns = [target] + skip_features)\n",
    "    y = data[target]\n",
    "    X_train, X_test, y_train, y_test = train_test_split(X, y, test_size=test_size, random_state=random_state)\n",
    "    \n",
    "    return X_train, X_test, y_train, y_test"
   ]
  },
  {
   "cell_type": "code",
   "execution_count": 6,
   "metadata": {},
   "outputs": [],
   "source": [
    "def model_selection(data:pd.DataFrame, target:str, skip_features:list, preprocessing_pipeline, models_dict:dict, preprocessing_param_grid:dict, metric:str, cv_n_splits:int=5, stratify:str=None, test_size:float=.2, random_state:int=0):\n",
    "    assert metric in ['rmse', 'r2']\n",
    "    \n",
    "    X_train, X_test, y_train, y_test = data_selection(df, target, skip_features, stratify, test_size, random_state)\n",
    "    \n",
    "    cv = KFold(n_splits=cv_n_splits, shuffle = True, random_state=0)\n",
    "    \n",
    "    for key, values in models_dict.items():\n",
    "        \n",
    "        model = values.get('model')\n",
    "        model_param_grid=values.get('param_grid')\n",
    "        param_grid = dict(list(preprocessing_param_grid.items()) + list(model_param_grid.items()))\n",
    "        pipe=Pipeline((('preprocessing', preprocessing), ('model', model)))\n",
    "        \n",
    "        if metric == 'rmse':\n",
    "            search = GridSearchCV(pipe, param_grid, cv=cv, scoring='neg_root_mean_squared_error')\n",
    "            search.fit(X_train, y_train)\n",
    "            y_pred=search.best_estimator_.predict(X_test)\n",
    "            score=mean_squared_error(y_test, y_pred, squared=False)\n",
    "            \n",
    "        elif metric == 'r2':\n",
    "            search = GridSearchCV(pipe, param_grid, cv=cv, scoring='r2')\n",
    "            search.fit(X_train, y_train)\n",
    "            y_pred=search.best_estimator_.predict(X_test)\n",
    "            score=r2_score(y_test, y_pred)\n",
    "            \n",
    "        print(f\"\"\"\n",
    "{100*'_'}\n",
    "Model: {model}\n",
    "Score: {score}\n",
    "Parameters: {search.best_params_}\n",
    "\"\"\")\n",
    "    "
   ]
  },
  {
   "cell_type": "code",
   "execution_count": 7,
   "metadata": {},
   "outputs": [],
   "source": [
    "target='ghg_emissions', \n",
    "skip_features=['site_energy_use_wn', 'energystar_score']"
   ]
  },
  {
   "cell_type": "markdown",
   "metadata": {},
   "source": [
    "### GHG emissions model"
   ]
  },
  {
   "cell_type": "code",
   "execution_count": 9,
   "metadata": {},
   "outputs": [],
   "source": [
    "num_features = df.columns[~df.columns.str.contains('cat_')]\n",
    "cat_features = df.columns[df.columns.str.contains('cat_')]\n",
    "num_features = num_features[~np.isin(num_features, [target]+skip_features)].tolist()\n",
    "cat_features = cat_features[~np.isin(cat_features, [target]+skip_features)].tolist()\n",
    "\n",
    "num_preprocessing = Pipeline((\n",
    "    ('imputer', SimpleImputer(strategy='constant', fill_value=0)), \n",
    "    ('normalizer', 'passthrough'),\n",
    "    ('scaler', 'passthrough')\n",
    "), verbose = False)\n",
    "\n",
    "preprocessing = ColumnTransformer([('num_preprocessing', num_preprocessing, num_features)])\n",
    "pipe=Pipeline((('preprocessing', preprocessing), ('model', LinearRegression())))"
   ]
  },
  {
   "cell_type": "code",
   "execution_count": 10,
   "metadata": {},
   "outputs": [],
   "source": [
    "preprocessing_param_grid = {\n",
    "    'preprocessing__remainder': ['drop', 'passthrough'],\n",
    "    'preprocessing__num_preprocessing__normalizer': ['passthrough', FunctionTransformer(lambda x: np.log(np.abs(x)+1))],\n",
    "    'preprocessing__num_preprocessing__scaler': [StandardScaler(), MinMaxScaler(), RobustScaler()]\n",
    "}"
   ]
  },
  {
   "cell_type": "code",
   "execution_count": 11,
   "metadata": {},
   "outputs": [],
   "source": [
    "models_dict = {\n",
    "    'linear_regression': {\n",
    "        'model': LinearRegression(),\n",
    "        'param_grid': {},\n",
    "    },\n",
    "    'SGD': {\n",
    "        'model': SGDRegressor(),\n",
    "        'param_grid': {},\n",
    "    }\n",
    "}"
   ]
  },
  {
   "cell_type": "code",
   "execution_count": 12,
   "metadata": {},
   "outputs": [
    {
     "name": "stdout",
     "output_type": "stream",
     "text": [
      "\n",
      "____________________________________________________________________________________________________\n",
      "Model: LinearRegression()\n",
      "Score: 405.05715836754786\n",
      "Parameters: {'preprocessing__num_preprocessing__normalizer': FunctionTransformer(func=<function <lambda> at 0x11ca13c20>), 'preprocessing__num_preprocessing__scaler': RobustScaler(), 'preprocessing__remainder': 'drop'}\n",
      "\n",
      "\n",
      "____________________________________________________________________________________________________\n",
      "Model: SGDRegressor()\n",
      "Score: 249.5548395529121\n",
      "Parameters: {'preprocessing__num_preprocessing__normalizer': 'passthrough', 'preprocessing__num_preprocessing__scaler': MinMaxScaler(), 'preprocessing__remainder': 'passthrough'}\n",
      "\n"
     ]
    }
   ],
   "source": [
    "model_selection(\n",
    "    df, \n",
    "    target='ghg_emissions', \n",
    "    skip_features=['site_energy_use_wn', 'energystar_score'],\n",
    "    preprocessing_pipeline=preprocessing,\n",
    "    models_dict=models_dict,\n",
    "    preprocessing_param_grid=preprocessing_param_grid,\n",
    "    metric='rmse'\n",
    ")"
   ]
  },
  {
   "cell_type": "code",
   "execution_count": 13,
   "metadata": {},
   "outputs": [
    {
     "name": "stdout",
     "output_type": "stream",
     "text": [
      "\n",
      "____________________________________________________________________________________________________\n",
      "Model: LinearRegression()\n",
      "Score: -1.2311532689011777\n",
      "Parameters: {'preprocessing__num_preprocessing__normalizer': FunctionTransformer(func=<function <lambda> at 0x11ca13c20>), 'preprocessing__num_preprocessing__scaler': RobustScaler(), 'preprocessing__remainder': 'drop'}\n",
      "\n",
      "\n",
      "____________________________________________________________________________________________________\n",
      "Model: SGDRegressor()\n",
      "Score: -0.17498788725299264\n",
      "Parameters: {'preprocessing__num_preprocessing__normalizer': FunctionTransformer(func=<function <lambda> at 0x11ca13c20>), 'preprocessing__num_preprocessing__scaler': MinMaxScaler(), 'preprocessing__remainder': 'passthrough'}\n",
      "\n"
     ]
    }
   ],
   "source": [
    "model_selection(\n",
    "    df, \n",
    "    target='ghg_emissions', \n",
    "    skip_features=['site_energy_use_wn', 'energystar_score'],\n",
    "    preprocessing_pipeline=preprocessing,\n",
    "    models_dict=models_dict,\n",
    "    preprocessing_param_grid=preprocessing_param_grid,\n",
    "    metric='r2'\n",
    ")"
   ]
  },
  {
   "cell_type": "code",
   "execution_count": null,
   "metadata": {},
   "outputs": [],
   "source": []
  }
 ],
 "metadata": {
  "kernelspec": {
   "display_name": "Python 3",
   "language": "python",
   "name": "python3"
  },
  "language_info": {
   "codemirror_mode": {
    "name": "ipython",
    "version": 3
   },
   "file_extension": ".py",
   "mimetype": "text/x-python",
   "name": "python",
   "nbconvert_exporter": "python",
   "pygments_lexer": "ipython3",
   "version": "3.7.6"
  }
 },
 "nbformat": 4,
 "nbformat_minor": 4
}
